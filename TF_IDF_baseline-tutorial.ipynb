{
 "cells": [
  {
   "cell_type": "code",
   "execution_count": 1,
   "metadata": {},
   "outputs": [],
   "source": [
    "import os\n",
    "import json\n",
    "import numpy as np \n",
    "import pandas as pd\n",
    "import re\n",
    "\n",
    "from sklearn.metrics import accuracy_score, f1_score\n",
    "from tqdm import tqdm_notebook as tqdm\n",
    "\n",
    "from sklearn.feature_extraction.text import TfidfVectorizer\n",
    "from sklearn.feature_extraction import text\n",
    "\n",
    "from scipy import spatial"
   ]
  },
  {
   "cell_type": "code",
   "execution_count": 2,
   "metadata": {},
   "outputs": [
    {
     "name": "stdout",
     "output_type": "stream",
     "text": [
      "./dataset_exploration.ipynb\n",
      "./sample_submission.csv\n",
      "./test_data.csv\n",
      "./simplified-nq-train.jsonl\n",
      "./simplified-nq-test.jsonl\n",
      "./TF_IDF_baseline-tutorial.ipynb\n",
      "./train_data.csv\n",
      "./submission.csv\n",
      "./TF_IDF_baseline.ipynb\n",
      "./.ipynb_checkpoints/dataset_exploration-checkpoint.ipynb\n",
      "./.ipynb_checkpoints/TF_IDF_baseline-checkpoint.ipynb\n",
      "./.ipynb_checkpoints/TF_IDF_baseline-tutorial-checkpoint.ipynb\n"
     ]
    }
   ],
   "source": [
    "for dirname, _, filenames in os.walk('./'):\n",
    "    for filename in filenames:\n",
    "        print(os.path.join(dirname, filename))"
   ]
  },
  {
   "cell_type": "markdown",
   "metadata": {},
   "source": [
    "# Long answer prediction"
   ]
  },
  {
   "cell_type": "code",
   "execution_count": 3,
   "metadata": {},
   "outputs": [],
   "source": [
    "stop_words = text.ENGLISH_STOP_WORDS.union([\"book\"])\n",
    "n_answers = 1\n"
   ]
  },
  {
   "cell_type": "code",
   "execution_count": 11,
   "metadata": {},
   "outputs": [],
   "source": [
    "def predict(json_data, annotated=False):\n",
    "    # Parse JSON data\n",
    "    candidates = json_data['long_answer_candidates']\n",
    "    #candidates = [c for c in candidates if c['top_level'] == True]\n",
    "    #candidates = [c for c in candidates if c]\n",
    "\n",
    "    doc_tokenized = json_data['document_text'].split(' ')\n",
    "    question = json_data['question_text']\n",
    "    question_s = question.split(' ') \n",
    "    if annotated:\n",
    "        ann = json_data['annotations'][0]\n",
    "\n",
    "    # TFIDF for the document\n",
    "    \n",
    "    #Convert a collection of raw documents to a matrix of TF-IDF features.\n",
    "    tfidf = TfidfVectorizer(ngram_range=(1,1), stop_words=stop_words)\n",
    "    tfidf.fit([json_data['document_text']])  # Learn vocabulary and idf from training set.\n",
    "    q_tfidf = tfidf.transform([question]).todense()  #  Transform documents to document-term matrix.\n",
    "\n",
    "    # Find the nearest answer from candidates\n",
    "    scores = []\n",
    "    for i, c in enumerate(candidates):\n",
    "        s, e = c['start_token'], c['end_token']\n",
    "        t = ' '.join(doc_tokenized[s:e])\n",
    "        t_tfidf = tfidf.transform([t]).todense()\n",
    "        score = 1 - spatial.distance.cosine(q_tfidf, t_tfidf)\n",
    "        scores.append(score)\n",
    "\n",
    "    # Put the nearest condidate   \n",
    "        \n",
    "    ans = (np.array(candidates)[np.argsort(scores)])[-n_answers:].tolist()\n",
    "    \n",
    "    \n",
    "    if np.max(scores) < 0.2:\n",
    "        ans_long = ['-1:-1']\n",
    "        ans = [{'start_token': 0, 'end_token': 0}]\n",
    "    else:\n",
    "        ans_long = [str(a['start_token']) + ':' + str(a['end_token']) for a in ans]\n",
    "    \n",
    "        \n",
    "    # Preparing data for debug\n",
    "    if annotated:\n",
    "        ann_long_text = ' '.join(doc_tokenized[ann['long_answer']['start_token']:ann['long_answer']['end_token']])\n",
    "        \n",
    "    else:\n",
    "        ann_long_text = ''\n",
    "        \n",
    "        \n",
    "    ans_long_text = [' '.join(doc_tokenized[a['start_token']:a['end_token']]) for a in ans]\n",
    "                    \n",
    "    return ans_long, question, ann_long_text, ans_long_text"
   ]
  },
  {
   "cell_type": "code",
   "execution_count": 12,
   "metadata": {
    "scrolled": true
   },
   "outputs": [
    {
     "data": {
      "application/vnd.jupyter.widget-view+json": {
       "model_id": "a21272f071a24b59919fe898fffe6510",
       "version_major": 2,
       "version_minor": 0
      },
      "text/plain": [
       "HBox(children=(IntProgress(value=1, bar_style='info', max=1), HTML(value='')))"
      ]
     },
     "metadata": {},
     "output_type": "display_data"
    },
    {
     "name": "stderr",
     "output_type": "stream",
     "text": [
      "/home/user/anaconda3/lib/python3.7/site-packages/scipy/spatial/distance.py:720: RuntimeWarning: invalid value encountered in double_scalars\n",
      "  dist = 1.0 - uv / np.sqrt(uu * vv)\n",
      "/home/user/anaconda3/lib/python3.7/site-packages/scipy/spatial/distance.py:720: RuntimeWarning: invalid value encountered in double_scalars\n",
      "  dist = 1.0 - uv / np.sqrt(uu * vv)\n",
      "/home/user/anaconda3/lib/python3.7/site-packages/scipy/spatial/distance.py:720: RuntimeWarning: invalid value encountered in double_scalars\n",
      "  dist = 1.0 - uv / np.sqrt(uu * vv)\n",
      "/home/user/anaconda3/lib/python3.7/site-packages/scipy/spatial/distance.py:720: RuntimeWarning: invalid value encountered in double_scalars\n",
      "  dist = 1.0 - uv / np.sqrt(uu * vv)\n",
      "/home/user/anaconda3/lib/python3.7/site-packages/scipy/spatial/distance.py:720: RuntimeWarning: invalid value encountered in double_scalars\n",
      "  dist = 1.0 - uv / np.sqrt(uu * vv)\n",
      "/home/user/anaconda3/lib/python3.7/site-packages/scipy/spatial/distance.py:720: RuntimeWarning: invalid value encountered in double_scalars\n",
      "  dist = 1.0 - uv / np.sqrt(uu * vv)\n",
      "/home/user/anaconda3/lib/python3.7/site-packages/scipy/spatial/distance.py:720: RuntimeWarning: invalid value encountered in double_scalars\n",
      "  dist = 1.0 - uv / np.sqrt(uu * vv)\n",
      "/home/user/anaconda3/lib/python3.7/site-packages/scipy/spatial/distance.py:720: RuntimeWarning: invalid value encountered in double_scalars\n",
      "  dist = 1.0 - uv / np.sqrt(uu * vv)\n",
      "/home/user/anaconda3/lib/python3.7/site-packages/scipy/spatial/distance.py:720: RuntimeWarning: invalid value encountered in double_scalars\n",
      "  dist = 1.0 - uv / np.sqrt(uu * vv)\n",
      "/home/user/anaconda3/lib/python3.7/site-packages/scipy/spatial/distance.py:720: RuntimeWarning: invalid value encountered in double_scalars\n",
      "  dist = 1.0 - uv / np.sqrt(uu * vv)\n",
      "/home/user/anaconda3/lib/python3.7/site-packages/scipy/spatial/distance.py:720: RuntimeWarning: invalid value encountered in double_scalars\n",
      "  dist = 1.0 - uv / np.sqrt(uu * vv)\n",
      "/home/user/anaconda3/lib/python3.7/site-packages/scipy/spatial/distance.py:720: RuntimeWarning: invalid value encountered in double_scalars\n",
      "  dist = 1.0 - uv / np.sqrt(uu * vv)\n",
      "/home/user/anaconda3/lib/python3.7/site-packages/scipy/spatial/distance.py:720: RuntimeWarning: invalid value encountered in double_scalars\n",
      "  dist = 1.0 - uv / np.sqrt(uu * vv)\n",
      "/home/user/anaconda3/lib/python3.7/site-packages/scipy/spatial/distance.py:720: RuntimeWarning: invalid value encountered in double_scalars\n",
      "  dist = 1.0 - uv / np.sqrt(uu * vv)\n",
      "/home/user/anaconda3/lib/python3.7/site-packages/scipy/spatial/distance.py:720: RuntimeWarning: invalid value encountered in double_scalars\n",
      "  dist = 1.0 - uv / np.sqrt(uu * vv)\n",
      "/home/user/anaconda3/lib/python3.7/site-packages/scipy/spatial/distance.py:720: RuntimeWarning: invalid value encountered in double_scalars\n",
      "  dist = 1.0 - uv / np.sqrt(uu * vv)\n",
      "/home/user/anaconda3/lib/python3.7/site-packages/scipy/spatial/distance.py:720: RuntimeWarning: invalid value encountered in double_scalars\n",
      "  dist = 1.0 - uv / np.sqrt(uu * vv)\n",
      "/home/user/anaconda3/lib/python3.7/site-packages/scipy/spatial/distance.py:720: RuntimeWarning: invalid value encountered in double_scalars\n",
      "  dist = 1.0 - uv / np.sqrt(uu * vv)\n"
     ]
    },
    {
     "name": "stdout",
     "output_type": "stream",
     "text": [
      "The length of ids = 500, \n",
      "The length of questions is 500 \n",
      "The length of anns: 500,\n",
      "The length of ann_texts is 500\n",
      "CPU times: user 23.7 s, sys: 56 ms, total: 23.7 s\n",
      "Wall time: 23.7 s\n"
     ]
    },
    {
     "data": {
      "text/html": [
       "<div>\n",
       "<style scoped>\n",
       "    .dataframe tbody tr th:only-of-type {\n",
       "        vertical-align: middle;\n",
       "    }\n",
       "\n",
       "    .dataframe tbody tr th {\n",
       "        vertical-align: top;\n",
       "    }\n",
       "\n",
       "    .dataframe thead th {\n",
       "        text-align: right;\n",
       "    }\n",
       "</style>\n",
       "<table border=\"1\" class=\"dataframe\">\n",
       "  <thead>\n",
       "    <tr style=\"text-align: right;\">\n",
       "      <th></th>\n",
       "      <th>example_id</th>\n",
       "      <th>question</th>\n",
       "      <th>CorrectString</th>\n",
       "      <th>CorrectText</th>\n",
       "      <th>PredictionString</th>\n",
       "      <th>PredictionText</th>\n",
       "    </tr>\n",
       "  </thead>\n",
       "  <tbody>\n",
       "    <tr>\n",
       "      <th>0</th>\n",
       "      <td>5655493461695504401_long</td>\n",
       "      <td>which is the most common use of opt-in e-mail ...</td>\n",
       "      <td>1952:2019</td>\n",
       "      <td>&lt;P&gt; A common example of permission marketing i...</td>\n",
       "      <td>1292:1311</td>\n",
       "      <td>&lt;P&gt; There are both advantages and disadvantage...</td>\n",
       "    </tr>\n",
       "    <tr>\n",
       "      <th>1</th>\n",
       "      <td>5328212470870865242_long</td>\n",
       "      <td>how i.met your mother who is the mother</td>\n",
       "      <td>212:310</td>\n",
       "      <td>&lt;P&gt; Tracy McConnell , better known as `` The M...</td>\n",
       "      <td>212:310</td>\n",
       "      <td>&lt;P&gt; Tracy McConnell , better known as `` The M...</td>\n",
       "    </tr>\n",
       "    <tr>\n",
       "      <th>2</th>\n",
       "      <td>4435104480114867852_long</td>\n",
       "      <td>what type of fertilisation takes place in humans</td>\n",
       "      <td>319:438</td>\n",
       "      <td>&lt;P&gt; The process of fertilization involves a sp...</td>\n",
       "      <td>1164:1180</td>\n",
       "      <td>&lt;P&gt; The fusion of cell membranes of the second...</td>\n",
       "    </tr>\n",
       "    <tr>\n",
       "      <th>3</th>\n",
       "      <td>5289242154789678439_long</td>\n",
       "      <td>who had the most wins in the nfl</td>\n",
       "      <td>509:576</td>\n",
       "      <td>&lt;P&gt; Active quarterback Tom Brady holds the rec...</td>\n",
       "      <td>469:509</td>\n",
       "      <td>&lt;P&gt; The following is a list of the top Nationa...</td>\n",
       "    </tr>\n",
       "    <tr>\n",
       "      <th>4</th>\n",
       "      <td>5489863933082811018_long</td>\n",
       "      <td>what happened to the lost settlement of roanoke</td>\n",
       "      <td>-1:-1</td>\n",
       "      <td></td>\n",
       "      <td>249:316</td>\n",
       "      <td>&lt;P&gt; The Roanoke Colony ( / ˈroʊəˌnoʊk / ) , al...</td>\n",
       "    </tr>\n",
       "    <tr>\n",
       "      <th>5</th>\n",
       "      <td>3411244446249504947_long</td>\n",
       "      <td>what are the different regions of africa and h...</td>\n",
       "      <td>-1:-1</td>\n",
       "      <td></td>\n",
       "      <td>95:144</td>\n",
       "      <td>&lt;P&gt; The continent of Africa is commonly divide...</td>\n",
       "    </tr>\n",
       "    <tr>\n",
       "      <th>6</th>\n",
       "      <td>-2500044561429484630_long</td>\n",
       "      <td>who played mantis guardians of the galaxy 2</td>\n",
       "      <td>82:169</td>\n",
       "      <td>&lt;P&gt; Pom Klementieff ( born 3 May 1986 ) is a F...</td>\n",
       "      <td>82:169</td>\n",
       "      <td>&lt;P&gt; Pom Klementieff ( born 3 May 1986 ) is a F...</td>\n",
       "    </tr>\n",
       "    <tr>\n",
       "      <th>7</th>\n",
       "      <td>5611750702541347162_long</td>\n",
       "      <td>who did the voice of the magician in frosty th...</td>\n",
       "      <td>-1:-1</td>\n",
       "      <td></td>\n",
       "      <td>580:730</td>\n",
       "      <td>&lt;P&gt; One December afternoon , a little girl nam...</td>\n",
       "    </tr>\n",
       "    <tr>\n",
       "      <th>8</th>\n",
       "      <td>4958098854057393062_long</td>\n",
       "      <td>what indian tribe did the acadians form friend...</td>\n",
       "      <td>562:695</td>\n",
       "      <td>&lt;P&gt; The survival of the Acadian settlements wa...</td>\n",
       "      <td>2861:2954</td>\n",
       "      <td>&lt;P&gt; The British Conquest of Acadia happened in...</td>\n",
       "    </tr>\n",
       "    <tr>\n",
       "      <th>9</th>\n",
       "      <td>8796576945844451825_long</td>\n",
       "      <td>what is considered the outer banks in north ca...</td>\n",
       "      <td>-1:-1</td>\n",
       "      <td></td>\n",
       "      <td>769:911</td>\n",
       "      <td>&lt;P&gt; The northern part of the Outer Banks , fro...</td>\n",
       "    </tr>\n",
       "  </tbody>\n",
       "</table>\n",
       "</div>"
      ],
      "text/plain": [
       "                  example_id  \\\n",
       "0   5655493461695504401_long   \n",
       "1   5328212470870865242_long   \n",
       "2   4435104480114867852_long   \n",
       "3   5289242154789678439_long   \n",
       "4   5489863933082811018_long   \n",
       "5   3411244446249504947_long   \n",
       "6  -2500044561429484630_long   \n",
       "7   5611750702541347162_long   \n",
       "8   4958098854057393062_long   \n",
       "9   8796576945844451825_long   \n",
       "\n",
       "                                            question CorrectString  \\\n",
       "0  which is the most common use of opt-in e-mail ...     1952:2019   \n",
       "1            how i.met your mother who is the mother       212:310   \n",
       "2   what type of fertilisation takes place in humans       319:438   \n",
       "3                   who had the most wins in the nfl       509:576   \n",
       "4    what happened to the lost settlement of roanoke         -1:-1   \n",
       "5  what are the different regions of africa and h...         -1:-1   \n",
       "6        who played mantis guardians of the galaxy 2        82:169   \n",
       "7  who did the voice of the magician in frosty th...         -1:-1   \n",
       "8  what indian tribe did the acadians form friend...       562:695   \n",
       "9  what is considered the outer banks in north ca...         -1:-1   \n",
       "\n",
       "                                         CorrectText PredictionString  \\\n",
       "0  <P> A common example of permission marketing i...        1292:1311   \n",
       "1  <P> Tracy McConnell , better known as `` The M...          212:310   \n",
       "2  <P> The process of fertilization involves a sp...        1164:1180   \n",
       "3  <P> Active quarterback Tom Brady holds the rec...          469:509   \n",
       "4                                                             249:316   \n",
       "5                                                              95:144   \n",
       "6  <P> Pom Klementieff ( born 3 May 1986 ) is a F...           82:169   \n",
       "7                                                             580:730   \n",
       "8  <P> The survival of the Acadian settlements wa...        2861:2954   \n",
       "9                                                             769:911   \n",
       "\n",
       "                                      PredictionText  \n",
       "0  <P> There are both advantages and disadvantage...  \n",
       "1  <P> Tracy McConnell , better known as `` The M...  \n",
       "2  <P> The fusion of cell membranes of the second...  \n",
       "3  <P> The following is a list of the top Nationa...  \n",
       "4  <P> The Roanoke Colony ( / ˈroʊəˌnoʊk / ) , al...  \n",
       "5  <P> The continent of Africa is commonly divide...  \n",
       "6  <P> Pom Klementieff ( born 3 May 1986 ) is a F...  \n",
       "7  <P> One December afternoon , a little girl nam...  \n",
       "8  <P> The British Conquest of Acadia happened in...  \n",
       "9  <P> The northern part of the Outer Banks , fro...  "
      ]
     },
     "execution_count": 12,
     "metadata": {},
     "output_type": "execute_result"
    }
   ],
   "source": [
    "%%time\n",
    "ids = []\n",
    "anns = []\n",
    "preds = []\n",
    "\n",
    "# Debug data\n",
    "questions = []\n",
    "ann_texts = []\n",
    "ans_texts = []\n",
    "\n",
    "n_samples = 500\n",
    "\n",
    "with open('simplified-nq-train.jsonl', 'r') as json_file:\n",
    "    cnt = 0\n",
    "    for line in tqdm(json_file):\n",
    "        json_data = json.loads(line)\n",
    "\n",
    "        l_ann = str(json_data['annotations'][0]['long_answer']['start_token']) + ':' + \\\n",
    "            str(json_data['annotations'][0]['long_answer']['end_token'])\n",
    "        \n",
    "\n",
    "        l_ans, question, ann_long_text, ans_long_text = predict(json_data, annotated=True)\n",
    "        \n",
    "        ids += [str(json_data['example_id']) + '_long']*len(l_ans)\n",
    "        \n",
    "    \n",
    "        anns += [l_ann]*len(l_ans)\n",
    "       \n",
    "        \n",
    "        preds += l_ans\n",
    "        \n",
    "        questions += [question]*len(l_ans)\n",
    "\n",
    "        ann_texts += [ann_long_text]*len(l_ans)\n",
    "       \n",
    "        ans_texts += ans_long_text\n",
    "        \n",
    "        \n",
    "        cnt += 1\n",
    "        if cnt >= n_samples:\n",
    "            break\n",
    "\n",
    "            \n",
    "print(f\"The length of ids = {len(ids)}, \\nThe length of questions is {len(questions)} \\n\" + \\\n",
    "      f\"The length of anns: {len(anns)},\\nThe length of ann_texts is {len(ans_texts)}\")\n",
    "train_ann = pd.DataFrame()\n",
    "train_ann['example_id'] = ids\n",
    "train_ann['question'] = questions\n",
    "train_ann['CorrectString'] = anns\n",
    "train_ann['CorrectText'] = ann_texts\n",
    "if len(preds) > 0:\n",
    "    train_ann['PredictionString'] = preds\n",
    "    train_ann['PredictionText'] = ans_texts\n",
    "    \n",
    "train_ann.to_csv('train_data.csv', index=False)\n",
    "train_ann.head(10)"
   ]
  },
  {
   "cell_type": "code",
   "execution_count": 6,
   "metadata": {},
   "outputs": [
    {
     "name": "stdout",
     "output_type": "stream",
     "text": [
      "F1-score: 0.1100\n"
     ]
    }
   ],
   "source": [
    "f1 = f1_score(train_ann['CorrectString'].values, train_ann['PredictionString'].values, average='micro')\n",
    "print(f'F1-score: {f1:.4f}') # top_level == True only condidates"
   ]
  },
  {
   "cell_type": "code",
   "execution_count": 7,
   "metadata": {},
   "outputs": [
    {
     "name": "stdout",
     "output_type": "stream",
     "text": [
      "F1-score: 0.1100\n"
     ]
    }
   ],
   "source": [
    "f1 = f1_score(train_ann['CorrectString'].values, train_ann['PredictionString'].values, average='micro')\n",
    "print(f'F1-score: {f1:.4f}') # whole condidates"
   ]
  },
  {
   "cell_type": "code",
   "execution_count": 8,
   "metadata": {},
   "outputs": [
    {
     "name": "stdout",
     "output_type": "stream",
     "text": [
      "F1-score: 0.1100\n"
     ]
    }
   ],
   "source": [
    "f1 = f1_score(train_ann['CorrectString'].values, train_ann['PredictionString'].values, average='micro')\n",
    "print(f'F1-score: {f1:.4f}')"
   ]
  },
  {
   "cell_type": "markdown",
   "metadata": {},
   "source": [
    "# Submission"
   ]
  },
  {
   "cell_type": "code",
   "execution_count": 9,
   "metadata": {},
   "outputs": [
    {
     "data": {
      "application/vnd.jupyter.widget-view+json": {
       "model_id": "8bc7a4c489cd4e3e8322d5963cad9da3",
       "version_major": 2,
       "version_minor": 0
      },
      "text/plain": [
       "HBox(children=(IntProgress(value=1, bar_style='info', max=1), HTML(value='')))"
      ]
     },
     "metadata": {},
     "output_type": "display_data"
    },
    {
     "ename": "ValueError",
     "evalue": "not enough values to unpack (expected 7, got 4)",
     "output_type": "error",
     "traceback": [
      "\u001b[0;31m---------------------------------------------------------------------------\u001b[0m",
      "\u001b[0;31mValueError\u001b[0m                                Traceback (most recent call last)",
      "\u001b[0;32m<timed exec>\u001b[0m in \u001b[0;36m<module>\u001b[0;34m\u001b[0m\n",
      "\u001b[0;31mValueError\u001b[0m: not enough values to unpack (expected 7, got 4)"
     ]
    }
   ],
   "source": [
    "%%time\n",
    "ids = []\n",
    "anns = []\n",
    "preds = []\n",
    "\n",
    "# Debug data\n",
    "questions = []\n",
    "ann_texts = []\n",
    "ans_texts = []\n",
    "\n",
    "with open('simplified-nq-test.jsonl', 'r') as json_file:\n",
    "    cnt = 0\n",
    "    for line in tqdm(json_file):\n",
    "        json_data = json.loads(line)\n",
    "        \n",
    "        l_ans, s_ans, question, ann_long_text, ann_short_text, ans_long_text, ans_short_text = predict(json_data)\n",
    "\n",
    "        ids += [str(json_data['example_id']) + '_long']*len(l_ans)\n",
    "        ids.append(str(json_data['example_id']) + '_short')\n",
    "        preds += l_ans\n",
    "        preds.append(s_ans)\n",
    "        questions += [question]*len(l_ans)\n",
    "        questions.append(question)\n",
    "        ans_texts += ans_long_text\n",
    "        ans_texts.append(ans_short_text)\n",
    "         \n",
    "#         cnt += 1\n",
    "#         if cnt >= n_samples:\n",
    "#             break\n",
    "        \n",
    "subm = pd.DataFrame()\n",
    "subm['example_id'] = ids\n",
    "subm['question'] = questions\n",
    "subm['PredictionString'] = preds\n",
    "subm['PredictionText'] = ans_texts\n",
    "subm.to_csv('test_data.csv', index=False)\n",
    "\n",
    "g = subm[['example_id', 'PredictionString']].groupby('example_id').agg(lambda x: ' '.join(x) if len(x) > 1 else x).reset_index()\n",
    "g.to_csv('submission.csv', index=False)\n",
    "\n",
    "subm.head(10)"
   ]
  },
  {
   "cell_type": "code",
   "execution_count": 10,
   "metadata": {},
   "outputs": [
    {
     "ename": "NameError",
     "evalue": "name 'g' is not defined",
     "output_type": "error",
     "traceback": [
      "\u001b[0;31m---------------------------------------------------------------------------\u001b[0m",
      "\u001b[0;31mNameError\u001b[0m                                 Traceback (most recent call last)",
      "\u001b[0;32m<ipython-input-10-3d1f10886a5c>\u001b[0m in \u001b[0;36m<module>\u001b[0;34m\u001b[0m\n\u001b[0;32m----> 1\u001b[0;31m \u001b[0mg\u001b[0m\u001b[0;34m.\u001b[0m\u001b[0mhead\u001b[0m\u001b[0;34m(\u001b[0m\u001b[0;34m)\u001b[0m\u001b[0;34m\u001b[0m\u001b[0;34m\u001b[0m\u001b[0m\n\u001b[0m",
      "\u001b[0;31mNameError\u001b[0m: name 'g' is not defined"
     ]
    }
   ],
   "source": [
    "g.head()\n"
   ]
  },
  {
   "cell_type": "code",
   "execution_count": null,
   "metadata": {},
   "outputs": [],
   "source": []
  }
 ],
 "metadata": {
  "kernelspec": {
   "display_name": "Python 3",
   "language": "python",
   "name": "python3"
  },
  "language_info": {
   "codemirror_mode": {
    "name": "ipython",
    "version": 3
   },
   "file_extension": ".py",
   "mimetype": "text/x-python",
   "name": "python",
   "nbconvert_exporter": "python",
   "pygments_lexer": "ipython3",
   "version": "3.7.3"
  }
 },
 "nbformat": 4,
 "nbformat_minor": 2
}
