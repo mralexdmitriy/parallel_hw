{
 "cells": [
  {
   "cell_type": "code",
   "execution_count": 78,
   "metadata": {},
   "outputs": [],
   "source": [
    "import os\n",
    "import json\n",
    "import numpy as np \n",
    "import pandas as pd\n",
    "import re\n",
    "import time\n",
    "import psutil\n",
    "from sklearn.metrics import accuracy_score, f1_score\n",
    "from tqdm import tqdm_notebook as tqdm\n",
    "from concurrent.futures import ProcessPoolExecutor\n",
    "from sklearn.feature_extraction.text import TfidfVectorizer\n",
    "from sklearn.feature_extraction import text\n",
    "from multiprocessing import Process, Manager\n",
    "from scipy import spatial\n",
    "import warnings\n"
   ]
  },
  {
   "cell_type": "markdown",
   "metadata": {},
   "source": [
    "# Long answer prediction"
   ]
  },
  {
   "cell_type": "code",
   "execution_count": 79,
   "metadata": {},
   "outputs": [],
   "source": [
    "stop_words = text.ENGLISH_STOP_WORDS.union([\"book\"])\n",
    "n_answers = 1\n",
    "warnings.filterwarnings(\"ignore\")"
   ]
  },
  {
   "cell_type": "code",
   "execution_count": 11,
   "metadata": {},
   "outputs": [],
   "source": [
    "def predict(json_data, annotated=False):\n",
    "    # Parse JSON data\n",
    "    candidates = json_data['long_answer_candidates']\n",
    "    doc_tokenized = json_data['document_text'].split(' ')\n",
    "    question = json_data['question_text']\n",
    "    question_s = question.split(' ') \n",
    "    \n",
    "    if annotated:\n",
    "        ann = json_data['annotations'][0]\n",
    "\n",
    "    # TFIDF for the document\n",
    "    \n",
    "    #Convert a collection of raw documents to a matrix of TF-IDF features.\n",
    "    tfidf = TfidfVectorizer(ngram_range=(1,1), stop_words=stop_words)\n",
    "    tfidf.fit([json_data['document_text']])  # Learn vocabulary and idf from training set.\n",
    "    q_tfidf = tfidf.transform([question]).todense()  #  Transform documents to document-term matrix.\n",
    "\n",
    "    # Find the nearest answer from candidates\n",
    "    scores = []\n",
    "    for i, c in enumerate(candidates):\n",
    "        s, e = c['start_token'], c['end_token']\n",
    "        t = ' '.join(doc_tokenized[s:e])\n",
    "        t_tfidf = tfidf.transform([t]).todense()\n",
    "        score = 1 - spatial.distance.cosine(q_tfidf, t_tfidf)\n",
    "        scores.append(score)\n",
    "\n",
    "    # Put the nearest condidate   \n",
    "        \n",
    "    ans = (np.array(candidates)[np.argsort(scores)])[-n_answers:].tolist()\n",
    "    \n",
    "    \n",
    "    if np.max(scores) < 0.2:\n",
    "        ans_long = ['-1:-1']\n",
    "        ans = [{'start_token': 0, 'end_token': 0}]\n",
    "    else:\n",
    "        ans_long = [str(a['start_token']) + ':' + str(a['end_token']) for a in ans]\n",
    "    \n",
    "        \n",
    "    # Preparing data for debug\n",
    "    if annotated:\n",
    "        ann_long_text = ' '.join(doc_tokenized[ann['long_answer']['start_token']:ann['long_answer']['end_token']])\n",
    "        \n",
    "    else:\n",
    "        ann_long_text = ''\n",
    "        \n",
    "    ans_long_text = [' '.join(doc_tokenized[a['start_token']:a['end_token']]) for a in ans]\n",
    "                    \n",
    "    return ans_long, question, ann_long_text, ans_long_text"
   ]
  },
  {
   "cell_type": "code",
   "execution_count": 95,
   "metadata": {
    "scrolled": true
   },
   "outputs": [],
   "source": [
    "def process(json_path, chunk_num, total_list):\n",
    "    \n",
    "    ids = []\n",
    "    anns = []\n",
    "    preds = []\n",
    "\n",
    "    # Debug data\n",
    "    questions = []\n",
    "    ann_texts = []\n",
    "    ans_texts = []\n",
    "    \n",
    "    n_rows = 300_000\n",
    "    num_cores = 6\n",
    "    n_samples = int(n_rows/num_cores)  # number of rows for 1 chunk\n",
    "\n",
    "    with open(json_path, 'r') as json_file:\n",
    "        \n",
    "        cnt = 0 + (chunk_num-1)*n_samples\n",
    "        n_samples = n_samples*chunk_num\n",
    "        \n",
    "        for line in tqdm(json_file):\n",
    "\n",
    "            json_data = json.loads(line)\n",
    "\n",
    "            l_ann = str(json_data['annotations'][0]['long_answer']['start_token']) + ':' + \\\n",
    "                str(json_data['annotations'][0]['long_answer']['end_token'])\n",
    "\n",
    "            l_ans, question, ann_long_text, ans_long_text = predict(json_data, annotated=True)\n",
    "\n",
    "            ids += [str(json_data['example_id']) + '_long']*len(l_ans)\n",
    "\n",
    "            anns += [l_ann]*len(l_ans)\n",
    "\n",
    "            preds += l_ans\n",
    "\n",
    "            questions += [question]*len(l_ans)\n",
    "\n",
    "            ann_texts += [ann_long_text]*len(l_ans)\n",
    "\n",
    "            ans_texts += ans_long_text\n",
    "\n",
    "            cnt += 1\n",
    "            if cnt%5000 == 0 and cnt < 50_001:\n",
    "                print(f\"computing progress: {int(cnt/500)}%\")\n",
    "            if cnt >= n_samples:\n",
    "                break\n",
    "\n",
    "    chunk_dict = {}\n",
    "    chunk_dict['example_id'] = ids\n",
    "    chunk_dict['question'] = questions\n",
    "    chunk_dict['CorrectString'] = anns\n",
    "    chunk_dict['CorrectText'] = ann_texts\n",
    "    if len(preds) > 0:\n",
    "        chunk_dict['PredictionString'] = preds\n",
    "        chunk_dict['PredictionText'] = ans_texts\n",
    "\n",
    "    total_list.append(chunk_dict)\n",
    "    \n"
   ]
  },
  {
   "cell_type": "markdown",
   "metadata": {},
   "source": [
    "# Multiprocessing"
   ]
  },
  {
   "cell_type": "code",
   "execution_count": 93,
   "metadata": {},
   "outputs": [],
   "source": [
    "sum_list = list()\n",
    "def multiprocessed():\n",
    "    cores = psutil.cpu_count(logical=False)\n",
    "    processes = []\n",
    "    a = time.time()\n",
    "    with Manager() as manager:\n",
    "        sum_list = manager.list()  # <-- can be shared between processes.\n",
    "        for i in range(0, cores):\n",
    "            p = Process(target=process,args=('simplified-nq-train.jsonl', i+1, sum_list))\n",
    "            processes.append(p)\n",
    "        # Start the processes\n",
    "        for p in processes:\n",
    "            p.start()\n",
    "        # Ensure all processes have finished execution\n",
    "        for p in processes:\n",
    "            p.join()\n",
    "        \n",
    "        sum_list = list(sum_list)\n",
    "        b = time.time()\n",
    "        print(f\"the executing time using multiprocessing is: {round(b-a, 3)} sec\")\n",
    "        return sum_list"
   ]
  },
  {
   "cell_type": "code",
   "execution_count": 96,
   "metadata": {
    "scrolled": true
   },
   "outputs": [
    {
     "name": "stdout",
     "output_type": "stream",
     "text": [
      "computing progress: 10%\n",
      "computing progress: 20%\n",
      "computing progress: 30%\n",
      "computing progress: 40%\n",
      "computing progress: 50%\n",
      "computing progress: 60%\n",
      "computing progress: 70%\n",
      "computing progress: 80%\n",
      "computing progress: 90%\n",
      "computing progress: 100%\n",
      "the executing time using multiprocessing is: 2738.067 sec\n"
     ]
    }
   ],
   "source": [
    "sum_list = multiprocessed()"
   ]
  },
  {
   "cell_type": "code",
   "execution_count": 97,
   "metadata": {},
   "outputs": [],
   "source": [
    "def creating_df(lst):\n",
    "    total_df = pd.DataFrame()\n",
    "    for l in lst:\n",
    "        df_chunk = pd.DataFrame.from_dict(l)\n",
    "        total_df = total_df.append(df_chunk)\n",
    "    return total_df"
   ]
  },
  {
   "cell_type": "code",
   "execution_count": 98,
   "metadata": {},
   "outputs": [],
   "source": [
    "total_df = creating_df(sum_list)"
   ]
  },
  {
   "cell_type": "code",
   "execution_count": 99,
   "metadata": {},
   "outputs": [
    {
     "name": "stdout",
     "output_type": "stream",
     "text": [
      "F1-score: 0.1026\n"
     ]
    }
   ],
   "source": [
    "f1 = f1_score(total_df['CorrectString'].values, total_df['PredictionString'].values, average='micro')\n",
    "print(f'F1-score: {f1:.4f}') # whole condidates"
   ]
  },
  {
   "cell_type": "code",
   "execution_count": null,
   "metadata": {},
   "outputs": [],
   "source": []
  }
 ],
 "metadata": {
  "kernelspec": {
   "display_name": "Python 3",
   "language": "python",
   "name": "python3"
  },
  "language_info": {
   "codemirror_mode": {
    "name": "ipython",
    "version": 3
   },
   "file_extension": ".py",
   "mimetype": "text/x-python",
   "name": "python",
   "nbconvert_exporter": "python",
   "pygments_lexer": "ipython3",
   "version": "3.7.3"
  }
 },
 "nbformat": 4,
 "nbformat_minor": 2
}
